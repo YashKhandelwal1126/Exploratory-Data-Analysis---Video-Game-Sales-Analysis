{
  "nbformat": 4,
  "nbformat_minor": 0,
  "metadata": {
    "colab": {
      "name": "EDA_Khandelwal_Yash",
      "provenance": [],
      "collapsed_sections": []
    },
    "kernelspec": {
      "name": "python3",
      "display_name": "Python 3"
    }
  },
  "cells": [
    {
      "cell_type": "markdown",
      "metadata": {
        "id": "QEeY8reP-8Q_"
      },
      "source": [
        "In this assignment you can identify a dataset of your interest and perform exploratory data analysis to better understand the data, investigate initial questions about it and develop preliminary insights and hypotheses. Your final submission will be a blog post consisting of a series of captioned visualizations that convey the key insights gained over the course of your analysis. You need to post the blog to medium or your github website.\n",
        "\n",
        "Documenting the data analysis process you went through is the main pedagogical goal of the assignment and more important than the design of the final visualization.\n",
        "\n",
        "We will go over the details of the project during class hours next week."
      ]
    },
    {
      "cell_type": "markdown",
      "metadata": {
        "id": "40FjLaUS_Rui"
      },
      "source": [
        "##**Part 1: Select and Prepare the Data**"
      ]
    },
    {
      "cell_type": "markdown",
      "metadata": {
        "id": "Mu120a3d_SnY"
      },
      "source": [
        "You should start by picking a topic area of interest to you and finding a dataset that can provide insights into that topic. We have provided some datasets below that you can start from. But we encourage you to investigate a different topic and dataset. If you self-select a dataset and are concerned about its appropriateness for the assignment, you can check with the TAs regarding the same.\n",
        "\n",
        "**Note:** The data collection and preparation (also known as data wrangling) can be a very tedious and time-consuming process. Be sure you have sufficient time to conduct exploratory analysis, after preparing the data.\n",
        "\n",
        "After selecting a topic and dataset – but prior to analysis – you should write down an initial set of at least three questions you’d like to investigate."
      ]
    },
    {
      "cell_type": "markdown",
      "metadata": {
        "id": "_97-jxLqB9NI"
      },
      "source": [
        "## **Part 2: Exploratory Analysis**"
      ]
    },
    {
      "cell_type": "markdown",
      "metadata": {
        "id": "rCbLzkhhCB14"
      },
      "source": [
        "Once you have picked the dataset and performed the initial data wrangling, you will perform exploratory analysis to investigate your data. For this assignment we would like you to use Pandas, NumPy and matplotlib to help you with the analysis. \n",
        "\n",
        "**Phase 1:** You should start the exploration by first examining the shape and structure of your data. What dimensions/variables does it contain and how are the data values distributed? Are there any notable data quality issues? Find out if there are missing values in the data and think of how you can handle them. Are there any surprising relationships between the dimensions/variables? Make sure to perform sanity checks for patterns you expect to see! Note that it may be the case that after doing a bit of exploration in phase 1 you find that your data is not as interesting as you first thought. In such cases you might consider returning to Part 1 and identifying a different dataset to work with. Such iteration on choosing the dataset is common, but also time-consuming, so make sure you leave time in your schedule for this.\n",
        "\n",
        "**Phase 2:** Next, you should investigate your initial questions, as well as any new questions that arise during your exploration. For each question, create a visualization that might provide a useful answer. Then refine the visualization (by adding additional variables, changing the sort ordering or axis scales, filtering or subsetting data, etc.) to develop better perspectives explore unexpected observations, or sanity check your assumptions. You should repeat this process for each of your questions, and also feel free to revise your questions or branch off to explore new questions as the data warrants."
      ]
    },
    {
      "cell_type": "markdown",
      "metadata": {
        "id": "IUjuPZ9_CUkW"
      },
      "source": [
        "## **Final Deliverable**"
      ]
    },
    {
      "cell_type": "markdown",
      "metadata": {
        "id": "AroFpzSaCXDa"
      },
      "source": [
        "Your final submission should consist of captioned visualizations detailing your most important insights. You will also work on writing and posting a blog to medium or your github website. Your “insights” can include important surprises or issues (such as data quality problems affecting your analysis) as well as responses to your analysis questions.\n",
        "\n",
        "Each visualization image should be a screenshot accompanied with a title and descriptive caption (1-4 sentences long) describing the insight(s) learned from that view. Provide sufficient detail for each caption such that anyone could read through your report and understand what you’ve learned. You are free, but not required, to annotate your images to draw attention to specific features of the data. \n",
        "\n",
        "Do not submit a blog cluttered with everything little thing you tried. Submit a clean report that highlights the most important “milestones” in your exploration, which can include initial overviews, identification of data quality problems, confirmations of key assumptions, and potential “discoveries”. Your blog should only present the final dataset you analyzed and should not describe any iterations on earlier datasets you might have initially explored."
      ]
    },
    {
      "cell_type": "markdown",
      "metadata": {
        "id": "XlvqVKO3CZxv"
      },
      "source": [
        "## **Data Sources**"
      ]
    },
    {
      "cell_type": "markdown",
      "metadata": {
        "id": "3tHXuSJ3CaiO"
      },
      "source": [
        "There are a variety of data sources available online. Here are some possible sources to consider. If you have any questions about whether your dataset is appropriate, please talk to the TAs.\n",
        "\n",
        "**Data is Plural** - Variety of datasets and sources covering many topics.\n",
        "\n",
        "https://data.gov - U.S. Government open datasets.\n",
        "\n",
        "U.S. Census Bureau - Census data - https://data.census.gov/\n",
        "\n",
        "Federal Elections Commission - Campaign finance and expenditures. - https://www.fec.gov/data/\n",
        "\n",
        "Federal Aviation Administration - FAA data - https://www.faa.gov/data_research/\n",
        "\n",
        "https://www.kaggle.com/\n",
        "\n",
        "https://archive.ics.uci.edu/ml/index.php\n",
        "\n",
        "https://github.com/awesomedata/awesome-public-datasets - Awesome Public Datasets - Variety of public datasets.\n",
        "\n",
        "Stanford Cable TV News Analyzer - We have recently released a tool that can be used to analyze who and what appears in the last decade of Cable TV News (i.e. CNN, Fox News, MSNBC). The site lets you download data as well which you could use to conduct further analysis. - https://tvnews.stanford.edu/data"
      ]
    },
    {
      "cell_type": "markdown",
      "metadata": {
        "id": "r1dkn1c9CtjY"
      },
      "source": [
        "### **Visualization Tool (matplotlib, seaborn, etc)**"
      ]
    },
    {
      "cell_type": "markdown",
      "metadata": {
        "id": "HDf8VHW7Cv2l"
      },
      "source": [
        "One goal of this assignment is for you to learn to use and evaluate the effectiveness of these packages. In addition to these packages, you are free to also use other visualization tools as you see fit, for example, you could also take a look at Tableau."
      ]
    },
    {
      "cell_type": "markdown",
      "metadata": {
        "id": "VlUMHuXCCzRa"
      },
      "source": [
        "### **Data Wrangling Tools**"
      ]
    },
    {
      "cell_type": "markdown",
      "metadata": {
        "id": "uPjA2VABC1fA"
      },
      "source": [
        "The data you choose may require reformatting, transformation or cleaning prior to visualization. You can use Pandas for data preparation. "
      ]
    },
    {
      "cell_type": "markdown",
      "metadata": {
        "id": "RG61l1mTC3ju"
      },
      "source": [
        "### **Grading**"
      ]
    },
    {
      "cell_type": "markdown",
      "metadata": {
        "id": "ESbDdwRzC5aM"
      },
      "source": [
        "Each submission will be graded based on both the analysis process and the included visualizations. Here are our grading criteria:\n",
        "\n",
        "**Appropriate Data Assessment (5):** Overview/understanding of the data is built from transformations and appropriate assessment of data quality. Poses clear questions.\n",
        "\n",
        "**Exploration Thoroughness (5):** Sufficient breadth of analysis, exploring questions in sufficient depth (with appropriate follow-up questions).\n",
        "\n",
        "**Documentation (Blog) (5):** Clear documentation of exploratory process, including clearly written, understandable captions that communicate primary insights.\n",
        "\n",
        "**Appropriate use of Numpy, Pandas, and Matplotlib (5)**  to ingest, clean, and present the data"
      ]
    },
    {
      "cell_type": "markdown",
      "metadata": {
        "id": "TJrX_ynfC7Pp"
      },
      "source": [
        "### **Submission Details**"
      ]
    },
    {
      "cell_type": "markdown",
      "metadata": {
        "id": "gM4CysyYC9dA"
      },
      "source": [
        "This is an individual assignment. You may not work in groups. The assignment is due on Sunday (03/07/2021)\n",
        "\n",
        "To submit your assignment, download your notebook and zip all the necessary files(data files). Submit the zipped file to balckboard. Make sure the notebook and the zipped file is named in the format - EDA_LastName_FirstName. Be sure to include the link to access your blog in your notebook.\n",
        "\n",
        "Also include the link to your notebook in the submission. \n",
        "\n",
        "We will provide more details on the blog during the next week of class.\n",
        "\n",
        "**Note** - If the dataset is too large to be zipped and submitted on blackboard, only submit your notebook, add your dataset to your google drive and share a link to the file in your notebook."
      ]
    },
    {
      "cell_type": "markdown",
      "metadata": {
        "id": "HwgIhyjw9Wrz"
      },
      "source": [
        "# Load the data \n",
        "\n"
      ]
    },
    {
      "cell_type": "code",
      "metadata": {
        "colab": {
          "base_uri": "https://localhost:8080/"
        },
        "id": "FgBpnGZr30hg",
        "outputId": "eeb1b134-2de6-4b00-d07b-8431c932b335"
      },
      "source": [
        "import numpy as np\n",
        "import pandas as pd \n",
        "\n",
        "sales = pd.read_csv('vgsales.csv')\n",
        "\n",
        "sales_df = pd.DataFrame(sales)\n",
        "print(frame)"
      ],
      "execution_count": 1,
      "outputs": [
        {
          "output_type": "stream",
          "text": [
            "        Rank  ... Global_Sales\n",
            "0          1  ...        82.74\n",
            "1          2  ...        40.24\n",
            "2          3  ...        35.82\n",
            "3          4  ...        33.00\n",
            "4          5  ...        31.37\n",
            "...      ...  ...          ...\n",
            "16593  16596  ...         0.01\n",
            "16594  16597  ...         0.01\n",
            "16595  16598  ...         0.01\n",
            "16596  16599  ...         0.01\n",
            "16597  16600  ...         0.01\n",
            "\n",
            "[16598 rows x 11 columns]\n"
          ],
          "name": "stdout"
        }
      ]
    },
    {
      "cell_type": "markdown",
      "metadata": {
        "id": "4tFOVpkHGhNc"
      },
      "source": [
        "# **Cleaning/Preparing the Data**"
      ]
    },
    {
      "cell_type": "code",
      "metadata": {
        "colab": {
          "base_uri": "https://localhost:8080/",
          "height": 963
        },
        "id": "GvYgnEbmGk-t",
        "outputId": "acd3b6b1-3553-4f40-e026-bc7fc72b4d67"
      },
      "source": [
        "import numpy as np\n",
        "import pandas as pd \n",
        "\n",
        "sales = pd.read_csv('vgsales.csv')\n",
        "\n",
        "sales_frame = pd.DataFrame(sales)\n",
        "print(frame)\n",
        "\n",
        "# find out information about the index dtype, clumns, non-nul values\n",
        "sales_frame.info()\n",
        "\n",
        "# Find the number of columns and rows\n",
        "sales_frame.shape\n",
        "\n",
        "# Remove columns that are not going to be used\n",
        "sales_frame_update = sales_frame.drop(['JP_Sales', 'Other_Sales'], axis = 1)\n",
        "\n",
        "sales_frame_update.shape\n",
        "\n",
        "# Remove rows that have zero sales for either North America or EU and do not have a year\n",
        "sales_frame_update = sales_frame_update[sales_frame_update['EU_Sales'] > 0]\n",
        "sales_frame_update = sales_frame_update[sales_frame_update['NA_Sales'] > 0]\n",
        "sales_frame_update = sales_frame_update[sales_frame_update['Year'] > 0]\n",
        "sales_frame_update.shape\n",
        "\n",
        "\n",
        "# sort the data by date\n",
        "sales_frame_update.sort_values(by = ['Year'])\n",
        "\n",
        "\n",
        "\n",
        "\n"
      ],
      "execution_count": 20,
      "outputs": [
        {
          "output_type": "stream",
          "text": [
            "        Rank  ... Global_Sales\n",
            "0          1  ...        82.74\n",
            "1          2  ...        40.24\n",
            "2          3  ...        35.82\n",
            "3          4  ...        33.00\n",
            "4          5  ...        31.37\n",
            "...      ...  ...          ...\n",
            "16593  16596  ...         0.01\n",
            "16594  16597  ...         0.01\n",
            "16595  16598  ...         0.01\n",
            "16596  16599  ...         0.01\n",
            "16597  16600  ...         0.01\n",
            "\n",
            "[16598 rows x 11 columns]\n",
            "<class 'pandas.core.frame.DataFrame'>\n",
            "RangeIndex: 16598 entries, 0 to 16597\n",
            "Data columns (total 11 columns):\n",
            " #   Column        Non-Null Count  Dtype  \n",
            "---  ------        --------------  -----  \n",
            " 0   Rank          16598 non-null  int64  \n",
            " 1   Name          16598 non-null  object \n",
            " 2   Platform      16598 non-null  object \n",
            " 3   Year          16327 non-null  float64\n",
            " 4   Genre         16598 non-null  object \n",
            " 5   Publisher     16540 non-null  object \n",
            " 6   NA_Sales      16598 non-null  float64\n",
            " 7   EU_Sales      16598 non-null  float64\n",
            " 8   JP_Sales      16598 non-null  float64\n",
            " 9   Other_Sales   16598 non-null  float64\n",
            " 10  Global_Sales  16598 non-null  float64\n",
            "dtypes: float64(6), int64(1), object(4)\n",
            "memory usage: 1.4+ MB\n"
          ],
          "name": "stdout"
        },
        {
          "output_type": "execute_result",
          "data": {
            "text/html": [
              "<div>\n",
              "<style scoped>\n",
              "    .dataframe tbody tr th:only-of-type {\n",
              "        vertical-align: middle;\n",
              "    }\n",
              "\n",
              "    .dataframe tbody tr th {\n",
              "        vertical-align: top;\n",
              "    }\n",
              "\n",
              "    .dataframe thead th {\n",
              "        text-align: right;\n",
              "    }\n",
              "</style>\n",
              "<table border=\"1\" class=\"dataframe\">\n",
              "  <thead>\n",
              "    <tr style=\"text-align: right;\">\n",
              "      <th></th>\n",
              "      <th>Rank</th>\n",
              "      <th>Name</th>\n",
              "      <th>Platform</th>\n",
              "      <th>Year</th>\n",
              "      <th>Genre</th>\n",
              "      <th>Publisher</th>\n",
              "      <th>NA_Sales</th>\n",
              "      <th>EU_Sales</th>\n",
              "      <th>Global_Sales</th>\n",
              "    </tr>\n",
              "  </thead>\n",
              "  <tbody>\n",
              "    <tr>\n",
              "      <th>258</th>\n",
              "      <td>259</td>\n",
              "      <td>Asteroids</td>\n",
              "      <td>2600</td>\n",
              "      <td>1980.0</td>\n",
              "      <td>Shooter</td>\n",
              "      <td>Atari</td>\n",
              "      <td>4.00</td>\n",
              "      <td>0.26</td>\n",
              "      <td>4.31</td>\n",
              "    </tr>\n",
              "    <tr>\n",
              "      <th>5366</th>\n",
              "      <td>5368</td>\n",
              "      <td>Freeway</td>\n",
              "      <td>2600</td>\n",
              "      <td>1980.0</td>\n",
              "      <td>Action</td>\n",
              "      <td>Activision</td>\n",
              "      <td>0.32</td>\n",
              "      <td>0.02</td>\n",
              "      <td>0.34</td>\n",
              "    </tr>\n",
              "    <tr>\n",
              "      <th>4025</th>\n",
              "      <td>4027</td>\n",
              "      <td>Ice Hockey</td>\n",
              "      <td>2600</td>\n",
              "      <td>1980.0</td>\n",
              "      <td>Sports</td>\n",
              "      <td>Activision</td>\n",
              "      <td>0.46</td>\n",
              "      <td>0.03</td>\n",
              "      <td>0.49</td>\n",
              "    </tr>\n",
              "    <tr>\n",
              "      <th>2669</th>\n",
              "      <td>2671</td>\n",
              "      <td>Boxing</td>\n",
              "      <td>2600</td>\n",
              "      <td>1980.0</td>\n",
              "      <td>Fighting</td>\n",
              "      <td>Activision</td>\n",
              "      <td>0.72</td>\n",
              "      <td>0.04</td>\n",
              "      <td>0.77</td>\n",
              "    </tr>\n",
              "    <tr>\n",
              "      <th>6896</th>\n",
              "      <td>6898</td>\n",
              "      <td>Checkers</td>\n",
              "      <td>2600</td>\n",
              "      <td>1980.0</td>\n",
              "      <td>Misc</td>\n",
              "      <td>Atari</td>\n",
              "      <td>0.22</td>\n",
              "      <td>0.01</td>\n",
              "      <td>0.24</td>\n",
              "    </tr>\n",
              "    <tr>\n",
              "      <th>...</th>\n",
              "      <td>...</td>\n",
              "      <td>...</td>\n",
              "      <td>...</td>\n",
              "      <td>...</td>\n",
              "      <td>...</td>\n",
              "      <td>...</td>\n",
              "      <td>...</td>\n",
              "      <td>...</td>\n",
              "      <td>...</td>\n",
              "    </tr>\n",
              "    <tr>\n",
              "      <th>5096</th>\n",
              "      <td>5098</td>\n",
              "      <td>Life is Strange</td>\n",
              "      <td>PS4</td>\n",
              "      <td>2016.0</td>\n",
              "      <td>Adventure</td>\n",
              "      <td>Square Enix</td>\n",
              "      <td>0.14</td>\n",
              "      <td>0.15</td>\n",
              "      <td>0.37</td>\n",
              "    </tr>\n",
              "    <tr>\n",
              "      <th>10047</th>\n",
              "      <td>10049</td>\n",
              "      <td>Life is Strange</td>\n",
              "      <td>XOne</td>\n",
              "      <td>2016.0</td>\n",
              "      <td>Adventure</td>\n",
              "      <td>Square Enix</td>\n",
              "      <td>0.08</td>\n",
              "      <td>0.02</td>\n",
              "      <td>0.11</td>\n",
              "    </tr>\n",
              "    <tr>\n",
              "      <th>2991</th>\n",
              "      <td>2993</td>\n",
              "      <td>Doom (2016)</td>\n",
              "      <td>XOne</td>\n",
              "      <td>2016.0</td>\n",
              "      <td>Shooter</td>\n",
              "      <td>Bethesda Softworks</td>\n",
              "      <td>0.39</td>\n",
              "      <td>0.23</td>\n",
              "      <td>0.68</td>\n",
              "    </tr>\n",
              "    <tr>\n",
              "      <th>8409</th>\n",
              "      <td>8411</td>\n",
              "      <td>Valkyria Chronicles</td>\n",
              "      <td>PS4</td>\n",
              "      <td>2016.0</td>\n",
              "      <td>Role-Playing</td>\n",
              "      <td>Sega</td>\n",
              "      <td>0.06</td>\n",
              "      <td>0.04</td>\n",
              "      <td>0.17</td>\n",
              "    </tr>\n",
              "    <tr>\n",
              "      <th>5661</th>\n",
              "      <td>5663</td>\n",
              "      <td>Mirror's Edge Catalyst</td>\n",
              "      <td>PS4</td>\n",
              "      <td>2016.0</td>\n",
              "      <td>Platform</td>\n",
              "      <td>Electronic Arts</td>\n",
              "      <td>0.10</td>\n",
              "      <td>0.14</td>\n",
              "      <td>0.32</td>\n",
              "    </tr>\n",
              "  </tbody>\n",
              "</table>\n",
              "<p>9597 rows × 9 columns</p>\n",
              "</div>"
            ],
            "text/plain": [
              "        Rank                    Name Platform  ...  NA_Sales EU_Sales Global_Sales\n",
              "258      259               Asteroids     2600  ...      4.00     0.26         4.31\n",
              "5366    5368                 Freeway     2600  ...      0.32     0.02         0.34\n",
              "4025    4027              Ice Hockey     2600  ...      0.46     0.03         0.49\n",
              "2669    2671                  Boxing     2600  ...      0.72     0.04         0.77\n",
              "6896    6898                Checkers     2600  ...      0.22     0.01         0.24\n",
              "...      ...                     ...      ...  ...       ...      ...          ...\n",
              "5096    5098         Life is Strange      PS4  ...      0.14     0.15         0.37\n",
              "10047  10049         Life is Strange     XOne  ...      0.08     0.02         0.11\n",
              "2991    2993             Doom (2016)     XOne  ...      0.39     0.23         0.68\n",
              "8409    8411     Valkyria Chronicles      PS4  ...      0.06     0.04         0.17\n",
              "5661    5663  Mirror's Edge Catalyst      PS4  ...      0.10     0.14         0.32\n",
              "\n",
              "[9597 rows x 9 columns]"
            ]
          },
          "metadata": {
            "tags": []
          },
          "execution_count": 20
        }
      ]
    },
    {
      "cell_type": "markdown",
      "metadata": {
        "id": "1reo7XBYQCO8"
      },
      "source": [
        "# **Data Exploration and Visualization**"
      ]
    },
    {
      "cell_type": "markdown",
      "metadata": {
        "id": "DrXyPI0H2RvN"
      },
      "source": [
        "Visualization of video game global sales"
      ]
    },
    {
      "cell_type": "code",
      "metadata": {
        "colab": {
          "base_uri": "https://localhost:8080/",
          "height": 820
        },
        "id": "Z-_yemaMQFrf",
        "outputId": "5573b129-2d9b-4e67-966d-c02fbd145247"
      },
      "source": [
        "import numpy as np\n",
        "import pandas as pd \n",
        "import matplotlib.pyplot as plt\n",
        "\n",
        "\n",
        "sales = pd.read_csv('vgsales.csv')\n",
        "\n",
        "sales_frame = pd.DataFrame(sales)\n",
        "\n",
        "\n",
        "# find out information about the index dtype, clumns, non-nul values\n",
        "sales_frame.info()\n",
        "\n",
        "# Find the number of columns and rows\n",
        "sales_frame.shape\n",
        "\n",
        "# Remove columns that are not going to be used\n",
        "sales_frame_update = sales_frame.drop(['JP_Sales', 'Other_Sales'], axis = 1)\n",
        "\n",
        "sales_frame_update.shape\n",
        "\n",
        "# Remove rows that have zero sales for either North America or EU and do not have a year\n",
        "sales_frame_update = sales_frame_update[sales_frame_update['EU_Sales'] > 0]\n",
        "sales_frame_update = sales_frame_update[sales_frame_update['NA_Sales'] > 0]\n",
        "sales_frame_update = sales_frame_update[sales_frame_update['Year'] > 0]\n",
        "sales_frame_update.shape\n",
        "\n",
        "\n",
        "# sort the data by date\n",
        "sales_frame_update.sort_values(by = ['Year'])\n",
        "\n",
        "\n",
        "# Visualization a time series graph for global sales\n",
        "# Only show columns Year and Global Sales\n",
        "global_sales_analysis = sales_frame_update[['Year', 'Global_Sales']]\n",
        "global_sales_sorted = global_sales_analysis.sort_values(by = ['Year'])\n",
        "global_sales_sorted = global_sales_sorted.groupby('Year').sum()\n",
        "\n",
        "\n",
        "# Create a time series \n",
        "# create x and y variables\n",
        "x = global_sales_sorted.index.get_level_values(\"Year\")\n",
        "y = global_sales_sorted[\"Global_Sales\"]\n",
        "\n",
        "myFig = plt.figure(figsize = (22,10))\n",
        "ax1 = myFig.add_subplot(1,1,1)\n",
        "ax1.plot(x, y, color = \"b\", marker = 'o')\n",
        "ax1.set_ylabel(\"Global Sales\")\n",
        "ax1.set_xlabel(\"Year\")\n",
        "ax1.set_title(\"Global Video Game Sales 1980-2016\")\n",
        "\n",
        "\n"
      ],
      "execution_count": 2,
      "outputs": [
        {
          "output_type": "stream",
          "text": [
            "<class 'pandas.core.frame.DataFrame'>\n",
            "RangeIndex: 16598 entries, 0 to 16597\n",
            "Data columns (total 11 columns):\n",
            " #   Column        Non-Null Count  Dtype  \n",
            "---  ------        --------------  -----  \n",
            " 0   Rank          16598 non-null  int64  \n",
            " 1   Name          16598 non-null  object \n",
            " 2   Platform      16598 non-null  object \n",
            " 3   Year          16327 non-null  float64\n",
            " 4   Genre         16598 non-null  object \n",
            " 5   Publisher     16540 non-null  object \n",
            " 6   NA_Sales      16598 non-null  float64\n",
            " 7   EU_Sales      16598 non-null  float64\n",
            " 8   JP_Sales      16598 non-null  float64\n",
            " 9   Other_Sales   16598 non-null  float64\n",
            " 10  Global_Sales  16598 non-null  float64\n",
            "dtypes: float64(6), int64(1), object(4)\n",
            "memory usage: 1.4+ MB\n"
          ],
          "name": "stdout"
        },
        {
          "output_type": "execute_result",
          "data": {
            "text/plain": [
              "Text(0.5, 1.0, 'Global Video Game Sales 1980-2016')"
            ]
          },
          "metadata": {
            "tags": []
          },
          "execution_count": 2
        },
        {
          "output_type": "display_data",
          "data": {
            "image/png": "[encoded data removed]",
            "text/plain": [
              "<Figure size 1584x720 with 1 Axes>"
            ]
          },
          "metadata": {
            "tags": [],
            "needs_background": "light"
          }
        }
      ]
    },
    {
      "cell_type": "markdown",
      "metadata": {
        "id": "uCKf2Msj3T0V"
      },
      "source": [
        "Visualization of genre global sales"
      ]
    },
    {
      "cell_type": "code",
      "metadata": {
        "colab": {
          "base_uri": "https://localhost:8080/",
          "height": 1000
        },
        "id": "AkC7siDn3TYR",
        "outputId": "ee0fcab6-39e9-45f0-97c1-42ea0f72ebbb"
      },
      "source": [
        "import numpy as np\n",
        "import pandas as pd \n",
        "import matplotlib.pyplot as plt\n",
        "\n",
        "sales = pd.read_csv('vgsales.csv')\n",
        "\n",
        "sales_frame = pd.DataFrame(sales)\n",
        "\n",
        "\n",
        "# find out information about the index dtype, clumns, non-nul values\n",
        "sales_frame.info()\n",
        "\n",
        "# Find the number of columns and rows\n",
        "sales_frame.shape\n",
        "\n",
        "# Remove columns that are not going to be used\n",
        "sales_frame_update = sales_frame.drop(['JP_Sales', 'Other_Sales'], axis = 1)\n",
        "\n",
        "sales_frame_update.shape\n",
        "\n",
        "# Remove rows that have zero sales for either North America or EU and do not have a year\n",
        "sales_frame_update = sales_frame_update[sales_frame_update['EU_Sales'] > 0]\n",
        "sales_frame_update = sales_frame_update[sales_frame_update['NA_Sales'] > 0]\n",
        "sales_frame_update = sales_frame_update[sales_frame_update['Year'] > 0]\n",
        "sales_frame_update.shape\n",
        "\n",
        "\n",
        "\n",
        "# Visualization a time series graph for global sales\n",
        "# Only show columns Genre and Global Sales\n",
        "global_sales_analysis = sales_frame_update[['Genre', 'Global_Sales']]\n",
        "global_sales_sorted = global_sales_analysis.sort_values(by = ['Genre'])\n",
        "# group data by genre of video game \n",
        "global_sales_sorted = global_sales_sorted.groupby('Genre').sum()\n",
        "print(global_sales_sorted)\n",
        "\n",
        "# Create a bar chart \n",
        "# create x and y variables\n",
        "x = global_sales_sorted.index.get_level_values(\"Genre\")\n",
        "y = global_sales_sorted[\"Global_Sales\"]\n",
        "\n",
        "\n",
        "myFig = plt.figure(figsize = (22,10))\n",
        "\n",
        "ax1 = myFig.add_subplot(1,1,1)\n",
        "ax1.bar(x, y, width=0.5, color='b', align='center')\n",
        "ax1.set_xlabel(\"Genre\")\n",
        "ax1.set_ylabel(\"Global Sales\")\n",
        "ax1.set_title(\"Number of Global Sales per Genre\")"
      ],
      "execution_count": 55,
      "outputs": [
        {
          "output_type": "stream",
          "text": [
            "<class 'pandas.core.frame.DataFrame'>\n",
            "RangeIndex: 16598 entries, 0 to 16597\n",
            "Data columns (total 11 columns):\n",
            " #   Column        Non-Null Count  Dtype  \n",
            "---  ------        --------------  -----  \n",
            " 0   Rank          16598 non-null  int64  \n",
            " 1   Name          16598 non-null  object \n",
            " 2   Platform      16598 non-null  object \n",
            " 3   Year          16327 non-null  float64\n",
            " 4   Genre         16598 non-null  object \n",
            " 5   Publisher     16540 non-null  object \n",
            " 6   NA_Sales      16598 non-null  float64\n",
            " 7   EU_Sales      16598 non-null  float64\n",
            " 8   JP_Sales      16598 non-null  float64\n",
            " 9   Other_Sales   16598 non-null  float64\n",
            " 10  Global_Sales  16598 non-null  float64\n",
            "dtypes: float64(6), int64(1), object(4)\n",
            "memory usage: 1.4+ MB\n",
            "              Global_Sales\n",
            "Genre                     \n",
            "Action             1607.70\n",
            "Adventure           179.00\n",
            "Fighting            392.71\n",
            "Misc                648.42\n",
            "Platform            800.25\n",
            "Puzzle              200.10\n",
            "Racing              689.14\n",
            "Role-Playing        738.40\n",
            "Shooter             993.14\n",
            "Simulation          324.56\n",
            "Sports             1123.98\n",
            "Strategy            120.31\n"
          ],
          "name": "stdout"
        },
        {
          "output_type": "execute_result",
          "data": {
            "text/plain": [
              "Text(0.5, 1.0, 'Number of Global Sales per Genre')"
            ]
          },
          "metadata": {
            "tags": []
          },
          "execution_count": 55
        },
        {
          "output_type": "display_data",
          "data": {
            "image/png": "[encoded data removed]",
            "text/plain": [
              "<Figure size 1584x720 with 1 Axes>"
            ]
          },
          "metadata": {
            "tags": [],
            "needs_background": "light"
          }
        }
      ]
    },
    {
      "cell_type": "markdown",
      "metadata": {
        "id": "is5ZMxuH7Iul"
      },
      "source": [
        "Visualization of North America Sales vs. Europe Sales"
      ]
    },
    {
      "cell_type": "code",
      "metadata": {
        "colab": {
          "base_uri": "https://localhost:8080/",
          "height": 1000
        },
        "id": "x4MxPkAO7IaF",
        "outputId": "09113a8c-a0d9-464c-bae6-e5fd2f33c525"
      },
      "source": [
        "import numpy as np\n",
        "import pandas as pd \n",
        "import matplotlib.pyplot as plt\n",
        "import matplotlib.patches as mpatches\n",
        "\n",
        "sales = pd.read_csv('vgsales.csv')\n",
        "\n",
        "sales_frame = pd.DataFrame(sales)\n",
        "\n",
        "\n",
        "# find out information about the index dtype, clumns, non-nul values\n",
        "sales_frame.info()\n",
        "\n",
        "# Find the number of columns and rows\n",
        "sales_frame.shape\n",
        "\n",
        "# Remove columns that are not going to be used\n",
        "sales_frame_update = sales_frame.drop(['JP_Sales', 'Other_Sales'], axis = 1)\n",
        "\n",
        "sales_frame_update.shape\n",
        "\n",
        "# Remove rows that have zero sales for either North America or EU and do not have a year\n",
        "sales_frame_update = sales_frame_update[sales_frame_update['EU_Sales'] > 0]\n",
        "sales_frame_update = sales_frame_update[sales_frame_update['NA_Sales'] > 0]\n",
        "sales_frame_update = sales_frame_update[sales_frame_update['Year'] > 0]\n",
        "sales_frame_update.shape\n",
        "\n",
        "\n",
        "# sort the data by date\n",
        "sales_frame_update.sort_values(by = ['Year'])\n",
        "\n",
        "\n",
        "# Visualization a time series graph for global sales\n",
        "# Only show columns Year, NA Sales, and EU Sales\n",
        "region_sales_analysis = sales_frame_update[['Year', 'NA_Sales', 'EU_Sales']]\n",
        "region_sales_analysis = region_sales_analysis.sort_values(by = ['Year'])\n",
        "# group data by genre of video game \n",
        "region_sales_analysis = region_sales_analysis.groupby('Year').sum()\n",
        "print(region_sales_analysis) \n",
        "\n",
        "# Create a bar chart with both region sales\n",
        "x = region_sales_analysis.index.get_level_values(\"Year\") \n",
        "y = region_sales_analysis[\"NA_Sales\"]\n",
        "y2 = region_sales_analysis[\"EU_Sales\"]\n",
        "\n",
        "myFig = plt.figure(figsize = (22,10))\n",
        "ax1 = myFig.add_subplot(1,1,1)\n",
        "ax1.plot(x, y, color = \"b\", marker = 'o')\n",
        "ax1.plot(x, y2,color = \"r\", marker = 'o')\n",
        "ax1.set_ylabel(\"Region Sales\")\n",
        "ax1.set_xlabel(\"Year\")\n",
        "ax1.set_title(\"Regional Sales in North America and the European Union\")\n",
        "\n",
        "EU_line = mpatches.Patch(color = \"r\", label = 'EU Sales')\n",
        "NA_line = mpatches.Patch(color='b', label = 'NA Sales')\n",
        "ax1.legend(handles = [EU_line, NA_line])\n",
        "\n",
        "\n",
        "\n",
        "\n",
        "\n",
        "\n"
      ],
      "execution_count": 5,
      "outputs": [
        {
          "output_type": "stream",
          "text": [
            "<class 'pandas.core.frame.DataFrame'>\n",
            "RangeIndex: 16598 entries, 0 to 16597\n",
            "Data columns (total 11 columns):\n",
            " #   Column        Non-Null Count  Dtype  \n",
            "---  ------        --------------  -----  \n",
            " 0   Rank          16598 non-null  int64  \n",
            " 1   Name          16598 non-null  object \n",
            " 2   Platform      16598 non-null  object \n",
            " 3   Year          16327 non-null  float64\n",
            " 4   Genre         16598 non-null  object \n",
            " 5   Publisher     16540 non-null  object \n",
            " 6   NA_Sales      16598 non-null  float64\n",
            " 7   EU_Sales      16598 non-null  float64\n",
            " 8   JP_Sales      16598 non-null  float64\n",
            " 9   Other_Sales   16598 non-null  float64\n",
            " 10  Global_Sales  16598 non-null  float64\n",
            "dtypes: float64(6), int64(1), object(4)\n",
            "memory usage: 1.4+ MB\n",
            "        NA_Sales  EU_Sales\n",
            "Year                      \n",
            "1980.0     10.59      0.67\n",
            "1981.0     33.40      1.96\n",
            "1982.0     26.92      1.65\n",
            "1983.0      7.75      0.80\n",
            "1984.0     33.28      2.10\n",
            "1985.0     33.55      4.71\n",
            "1986.0     11.86      2.84\n",
            "1987.0      7.73      1.41\n",
            "1988.0     23.67      6.57\n",
            "1989.0     45.09      8.44\n",
            "1990.0     25.38      7.63\n",
            "1991.0     12.76      3.95\n",
            "1992.0     33.84     11.66\n",
            "1993.0     14.82      4.65\n",
            "1994.0     27.28     14.88\n",
            "1995.0     24.52     14.90\n",
            "1996.0     86.09     47.26\n",
            "1997.0     90.72     48.30\n",
            "1998.0    127.91     66.79\n",
            "1999.0    122.10     61.62\n",
            "2000.0     94.41     52.73\n",
            "2001.0    172.10     93.44\n",
            "2002.0    215.77    109.57\n",
            "2003.0    191.46    100.53\n",
            "2004.0    219.30    104.34\n",
            "2005.0    227.98    118.07\n",
            "2006.0    235.77    123.55\n",
            "2007.0    265.12    154.49\n",
            "2008.0    289.72    175.29\n",
            "2009.0    282.02    179.43\n",
            "2010.0    272.10    166.60\n",
            "2011.0    222.12    158.14\n",
            "2012.0    146.27    113.97\n",
            "2013.0    149.81    121.57\n",
            "2014.0    129.25    122.50\n",
            "2015.0    101.63     93.26\n",
            "2016.0     20.93     24.84\n"
          ],
          "name": "stdout"
        },
        {
          "output_type": "execute_result",
          "data": {
            "text/plain": [
              "<matplotlib.legend.Legend at 0x7f82a84eafd0>"
            ]
          },
          "metadata": {
            "tags": []
          },
          "execution_count": 5
        },
        {
          "output_type": "display_data",
          "data": {
            "image/png": "[encoded data removed]",
            "text/plain": [
              "<Figure size 1584x720 with 1 Axes>"
            ]
          },
          "metadata": {
            "tags": [],
            "needs_background": "light"
          }
        }
      ]
    },
    {
      "cell_type": "markdown",
      "metadata": {
        "id": "kJwRXnTNdz-M"
      },
      "source": [
        "# **Understand the data better through statistics**"
      ]
    },
    {
      "cell_type": "code",
      "metadata": {
        "colab": {
          "base_uri": "https://localhost:8080/"
        },
        "id": "mimKczhjd9n9",
        "outputId": "47c73f4c-c2bc-4e8b-b80b-0ea96d443d5c"
      },
      "source": [
        "# find the average of sales in NA and EU\n",
        "import numpy as np\n",
        "import pandas as pd \n",
        "import matplotlib.pyplot as plt\n",
        "import matplotlib.patches as mpatches\n",
        "\n",
        "sales = pd.read_csv('vgsales.csv')\n",
        "\n",
        "sales_frame = pd.DataFrame(sales)\n",
        "\n",
        "\n",
        "# find out information about the index dtype, clumns, non-nul values\n",
        "sales_frame.info()\n",
        "\n",
        "# Find the number of columns and rows\n",
        "sales_frame.shape\n",
        "\n",
        "# Remove columns that are not going to be used\n",
        "sales_frame_update = sales_frame.drop(['JP_Sales', 'Other_Sales'], axis = 1)\n",
        "\n",
        "sales_frame_update.shape\n",
        "\n",
        "# Remove rows that have zero sales for either North America or EU and do not have a year\n",
        "sales_frame_update = sales_frame_update[sales_frame_update['EU_Sales'] > 0]\n",
        "sales_frame_update = sales_frame_update[sales_frame_update['NA_Sales'] > 0]\n",
        "sales_frame_update = sales_frame_update[sales_frame_update['Year'] > 0]\n",
        "sales_frame_update.shape\n",
        "\n",
        "# find the average of sales in NA and EU\n",
        "EU_Sales = sales_frame_update['EU_Sales']\n",
        "NA_Sales = sales_frame_update['NA_Sales']\n",
        "\n",
        "EU_average = np.average(EU_Sales)\n",
        "print(EU_average)\n",
        "NA_average = np.average(NA_Sales)\n",
        "print(NA_average)\n",
        "\n",
        "#Find the max of each region\n",
        "\n",
        "EU_max = np.max(EU_Sales)\n",
        "print(EU_max)\n",
        "\n",
        "NA_max = np.max(NA_Sales)\n",
        "print(NA_max)\n",
        "\n",
        "# find the min of each region\n",
        "\n",
        "EU_min = np.min(EU_Sales)\n",
        "print(EU_min)\n",
        "\n",
        "NA_min = np.min(NA_Sales)\n",
        "print(NA_min)"
      ],
      "execution_count": 11,
      "outputs": [
        {
          "output_type": "stream",
          "text": [
            "<class 'pandas.core.frame.DataFrame'>\n",
            "RangeIndex: 16598 entries, 0 to 16597\n",
            "Data columns (total 11 columns):\n",
            " #   Column        Non-Null Count  Dtype  \n",
            "---  ------        --------------  -----  \n",
            " 0   Rank          16598 non-null  int64  \n",
            " 1   Name          16598 non-null  object \n",
            " 2   Platform      16598 non-null  object \n",
            " 3   Year          16327 non-null  float64\n",
            " 4   Genre         16598 non-null  object \n",
            " 5   Publisher     16540 non-null  object \n",
            " 6   NA_Sales      16598 non-null  float64\n",
            " 7   EU_Sales      16598 non-null  float64\n",
            " 8   JP_Sales      16598 non-null  float64\n",
            " 9   Other_Sales   16598 non-null  float64\n",
            " 10  Global_Sales  16598 non-null  float64\n",
            "dtypes: float64(6), int64(1), object(4)\n",
            "memory usage: 1.4+ MB\n",
            "0.24227466916744814\n",
            "0.420445972699802\n",
            "29.02\n",
            "41.49\n",
            "0.01\n",
            "0.01\n"
          ],
          "name": "stdout"
        }
      ]
    },
    {
      "cell_type": "markdown",
      "metadata": {
        "id": "la--WwAnwwjg"
      },
      "source": [
        "# **Hypothesis 1: I hypothesize that there is a correlation between the genre of video game and the amount of sales within the NA and EU region**"
      ]
    },
    {
      "cell_type": "markdown",
      "metadata": {
        "id": "n0Afn77kxM9t"
      },
      "source": [
        "There are many video game genres and so is a genre favored more in one region than the other?"
      ]
    },
    {
      "cell_type": "code",
      "metadata": {
        "colab": {
          "base_uri": "https://localhost:8080/",
          "height": 1000
        },
        "id": "FdVsVMQfxtFu",
        "outputId": "0a1510eb-0fd2-4efd-f314-7764a1e93e58"
      },
      "source": [
        "import numpy as np\n",
        "import pandas as pd \n",
        "import matplotlib.pyplot as plt\n",
        "import matplotlib.patches as mpatches\n",
        "\n",
        "sales = pd.read_csv('vgsales.csv')\n",
        "\n",
        "sales_frame = pd.DataFrame(sales)\n",
        "\n",
        "\n",
        "# find out information about the index dtype, clumns, non-nul values\n",
        "sales_frame.info()\n",
        "\n",
        "# Find the number of columns and rows\n",
        "sales_frame.shape\n",
        "\n",
        "# Remove columns that are not going to be used\n",
        "sales_frame_update = sales_frame.drop(['JP_Sales', 'Other_Sales'], axis = 1)\n",
        "\n",
        "sales_frame_update.shape\n",
        "\n",
        "# Remove rows that have zero sales for either North America or EU and do not have a year\n",
        "sales_frame_update = sales_frame_update[sales_frame_update['EU_Sales'] > 0]\n",
        "sales_frame_update = sales_frame_update[sales_frame_update['NA_Sales'] > 0]\n",
        "sales_frame_update = sales_frame_update[sales_frame_update['Year'] > 0]\n",
        "sales_frame_update.shape\n",
        "\n",
        "\n",
        "# sort the data by date\n",
        "sales_frame_update.sort_values(by = ['Year'])\n",
        "\n",
        "\n",
        "# Visualization a time series graph for global sales\n",
        "# Only show columns Year, NA Sales, and EU Sales\n",
        "region_sales_analysis = sales_frame_update[['Genre', 'NA_Sales', 'EU_Sales']]\n",
        "region_sales_analysis = region_sales_analysis.sort_values(by = ['Genre'])\n",
        "# group data by genre of video game \n",
        "region_sales_analysis = region_sales_analysis.groupby('Genre').sum()\n",
        "print(region_sales_analysis) \n",
        "\n",
        "# set up chart variables\n",
        "z = region_sales_analysis.index.get_level_values(\"Genre\")\n",
        "y = region_sales_analysis['EU_Sales']\n",
        "y2 = region_sales_analysis['NA_Sales']\n",
        "\n",
        "\n",
        "\n",
        "\n",
        "# Create a multicolumn bar chart\n",
        "ax1 = region_sales_analysis[['NA_Sales', 'EU_Sales']].plot(kind=\"bar\", figsize=(20,10))\n",
        "ax1.set_ylabel(\"Region Sales\")\n",
        "ax1.set_title('Region Sales by Video Game Genre')\n",
        "\n"
      ],
      "execution_count": 3,
      "outputs": [
        {
          "output_type": "stream",
          "text": [
            "<class 'pandas.core.frame.DataFrame'>\n",
            "RangeIndex: 16598 entries, 0 to 16597\n",
            "Data columns (total 11 columns):\n",
            " #   Column        Non-Null Count  Dtype  \n",
            "---  ------        --------------  -----  \n",
            " 0   Rank          16598 non-null  int64  \n",
            " 1   Name          16598 non-null  object \n",
            " 2   Platform      16598 non-null  object \n",
            " 3   Year          16327 non-null  float64\n",
            " 4   Genre         16598 non-null  object \n",
            " 5   Publisher     16540 non-null  object \n",
            " 6   NA_Sales      16598 non-null  float64\n",
            " 7   EU_Sales      16598 non-null  float64\n",
            " 8   JP_Sales      16598 non-null  float64\n",
            " 9   Other_Sales   16598 non-null  float64\n",
            " 10  Global_Sales  16598 non-null  float64\n",
            "dtypes: float64(6), int64(1), object(4)\n",
            "memory usage: 1.4+ MB\n",
            "              NA_Sales  EU_Sales\n",
            "Genre                           \n",
            "Action          825.10    507.28\n",
            "Adventure        88.63     60.06\n",
            "Fighting        213.27     99.41\n",
            "Misc            349.29    193.99\n",
            "Platform        438.31    199.24\n",
            "Puzzle          105.97     46.44\n",
            "Racing          340.44    230.78\n",
            "Role-Playing    307.23    183.15\n",
            "Shooter         561.01    304.67\n",
            "Simulation      154.01    105.92\n",
            "Sports          589.41    355.32\n",
            "Strategy         62.35     38.85\n"
          ],
          "name": "stdout"
        },
        {
          "output_type": "execute_result",
          "data": {
            "text/plain": [
              "Text(0.5, 1.0, 'Region Sales by Video Game Genre')"
            ]
          },
          "metadata": {
            "tags": []
          },
          "execution_count": 3
        },
        {
          "output_type": "display_data",
          "data": {
            "image/png": "[encoded data removed]",
            "text/plain": [
              "<Figure size 1440x720 with 1 Axes>"
            ]
          },
          "metadata": {
            "tags": [],
            "needs_background": "light"
          }
        }
      ]
    },
    {
      "cell_type": "markdown",
      "metadata": {
        "id": "ugkMrZy7CNrX"
      },
      "source": [
        "# **Hypothesis 2: I hypothesize that the platform Xbox360 has brought in the most revenue globally**"
      ]
    },
    {
      "cell_type": "markdown",
      "metadata": {
        "id": "t7Uz2zEnG9GY"
      },
      "source": [
        "For publishers to maximize revenue it is important to know what platforms they should make video games for, therefore, which platform has brought in the most revenue?"
      ]
    },
    {
      "cell_type": "code",
      "metadata": {
        "colab": {
          "base_uri": "https://localhost:8080/",
          "height": 1000
        },
        "id": "HOkaahU8I8cJ",
        "outputId": "310b3671-8151-492c-dc5b-3b78df95d351"
      },
      "source": [
        "import numpy as np\n",
        "import pandas as pd \n",
        "import matplotlib.pyplot as plt\n",
        "import matplotlib.patches as mpatches\n",
        "\n",
        "sales = pd.read_csv('vgsales.csv')\n",
        "\n",
        "sales_frame = pd.DataFrame(sales)\n",
        "\n",
        "\n",
        "# find out information about the index dtype, clumns, non-nul values\n",
        "sales_frame.info()\n",
        "\n",
        "# Find the number of columns and rows\n",
        "sales_frame.shape\n",
        "\n",
        "# Remove columns that are not going to be used\n",
        "sales_frame_update = sales_frame.drop(['JP_Sales', 'Other_Sales'], axis = 1)\n",
        "\n",
        "sales_frame_update.shape\n",
        "\n",
        "# Remove rows that have zero sales for either North America or EU and do not have a year\n",
        "sales_frame_update = sales_frame_update[sales_frame_update['EU_Sales'] > 0]\n",
        "sales_frame_update = sales_frame_update[sales_frame_update['NA_Sales'] > 0]\n",
        "sales_frame_update = sales_frame_update[sales_frame_update['Year'] > 0]\n",
        "sales_frame_update.shape\n",
        "\n",
        "\n",
        "# sort the data by date\n",
        "sales_frame_update.sort_values(by = ['Year'])\n",
        "\n",
        "\n",
        "# Visualization a time series graph for global sales\n",
        "# Only show columns Year, NA Sales, and EU Sales\n",
        "platform_sales_analysis = sales_frame_update[['Platform', 'Global_Sales']]\n",
        "\n",
        "\n",
        "# group data by genre of video game \n",
        "platform_sales_analysis = platform_sales_analysis.groupby('Platform').sum()\n",
        "reset_df = platform_sales_analysis.reset_index()\n",
        "print(reset_df) \n",
        "\n",
        "zz = platform_sales_analysis.index.get_level_values(\"Platform\") \n",
        "print(zz)\n",
        "y = platform_sales_analysis['Global_Sales']\n",
        "\n",
        "\n",
        "# create a bar chart\n",
        "graph = pd.DataFrame(reset_df, columns = [\"Platform\", \"Global_Sales\" ])\n",
        "plt = graph.plot(x= \"Platform\" , y=\"Global_Sales\", kind='bar', figsize=(20,10))\n",
        "plt.set_xlabel(\"Platform\")\n",
        "plt.set_ylabel(\"Global Sales\")\n",
        "plt.set_title(\"Global Sales for Each Platform\")\n",
        "\n"
      ],
      "execution_count": 10,
      "outputs": [
        {
          "output_type": "stream",
          "text": [
            "<class 'pandas.core.frame.DataFrame'>\n",
            "RangeIndex: 16598 entries, 0 to 16597\n",
            "Data columns (total 11 columns):\n",
            " #   Column        Non-Null Count  Dtype  \n",
            "---  ------        --------------  -----  \n",
            " 0   Rank          16598 non-null  int64  \n",
            " 1   Name          16598 non-null  object \n",
            " 2   Platform      16598 non-null  object \n",
            " 3   Year          16327 non-null  float64\n",
            " 4   Genre         16598 non-null  object \n",
            " 5   Publisher     16540 non-null  object \n",
            " 6   NA_Sales      16598 non-null  float64\n",
            " 7   EU_Sales      16598 non-null  float64\n",
            " 8   JP_Sales      16598 non-null  float64\n",
            " 9   Other_Sales   16598 non-null  float64\n",
            " 10  Global_Sales  16598 non-null  float64\n",
            "dtypes: float64(6), int64(1), object(4)\n",
            "memory usage: 1.4+ MB\n",
            "   Platform  Global_Sales\n",
            "0      2600         86.42\n",
            "1       3DS        198.60\n",
            "2        DC          8.84\n",
            "3        DS        638.12\n",
            "4        GB        225.91\n",
            "5       GBA        298.17\n",
            "6        GC        193.44\n",
            "7       GEN         26.79\n",
            "8       N64        210.88\n",
            "9       NES        207.31\n",
            "10       PC        197.62\n",
            "11       PS        665.07\n",
            "12      PS2       1120.42\n",
            "13      PS3        891.77\n",
            "14      PS4        268.63\n",
            "15      PSP        203.96\n",
            "16      PSV         43.27\n",
            "17      SAT          4.16\n",
            "18      SCD          1.50\n",
            "19     SNES        119.65\n",
            "20      Wii        808.53\n",
            "21     WiiU         79.49\n",
            "22     X360        927.72\n",
            "23       XB        251.04\n",
            "24     XOne        140.40\n",
            "Index(['2600', '3DS', 'DC', 'DS', 'GB', 'GBA', 'GC', 'GEN', 'N64', 'NES', 'PC',\n",
            "       'PS', 'PS2', 'PS3', 'PS4', 'PSP', 'PSV', 'SAT', 'SCD', 'SNES', 'Wii',\n",
            "       'WiiU', 'X360', 'XB', 'XOne'],\n",
            "      dtype='object', name='Platform')\n"
          ],
          "name": "stdout"
        },
        {
          "output_type": "execute_result",
          "data": {
            "text/plain": [
              "Text(0.5, 1.0, 'Global Sales for each platform')"
            ]
          },
          "metadata": {
            "tags": []
          },
          "execution_count": 10
        },
        {
          "output_type": "display_data",
          "data": {
            "image/png": "[encoded data removed]",
            "text/plain": [
              "<Figure size 1440x720 with 1 Axes>"
            ]
          },
          "metadata": {
            "tags": [],
            "needs_background": "light"
          }
        }
      ]
    },
    {
      "cell_type": "markdown",
      "metadata": {
        "id": "j1fAwecXdekz"
      },
      "source": [
        "**Which platform sold the most in North America?**"
      ]
    },
    {
      "cell_type": "code",
      "metadata": {
        "colab": {
          "base_uri": "https://localhost:8080/",
          "height": 1000
        },
        "id": "3i28yFVMdeOQ",
        "outputId": "74dc4df7-0d3e-4d8c-a8e5-d6c10c503850"
      },
      "source": [
        "import numpy as np\n",
        "import pandas as pd \n",
        "import matplotlib.pyplot as plt\n",
        "import matplotlib.patches as mpatches\n",
        "\n",
        "sales = pd.read_csv('vgsales.csv')\n",
        "\n",
        "sales_frame = pd.DataFrame(sales)\n",
        "\n",
        "\n",
        "# find out information about the index dtype, clumns, non-nul values\n",
        "sales_frame.info()\n",
        "\n",
        "# Find the number of columns and rows\n",
        "sales_frame.shape\n",
        "\n",
        "# Remove columns that are not going to be used\n",
        "sales_frame_update = sales_frame.drop(['JP_Sales', 'Other_Sales'], axis = 1)\n",
        "\n",
        "sales_frame_update.shape\n",
        "\n",
        "# Remove rows that have zero sales for either North America or EU and do not have a year\n",
        "sales_frame_update = sales_frame_update[sales_frame_update['EU_Sales'] > 0]\n",
        "sales_frame_update = sales_frame_update[sales_frame_update['NA_Sales'] > 0]\n",
        "sales_frame_update = sales_frame_update[sales_frame_update['Year'] > 0]\n",
        "sales_frame_update.shape\n",
        "\n",
        "\n",
        "# sort the data by date\n",
        "sales_frame_update.sort_values(by = ['Year'])\n",
        "\n",
        "\n",
        "# Visualization a time series graph for global sales\n",
        "# Only show columns Year, NA Sales, and EU Sales\n",
        "platform_sales_analysis = sales_frame_update[['Platform', 'NA_Sales']]\n",
        "\n",
        "\n",
        "# group data by genre of video game \n",
        "platform_sales_analysis = platform_sales_analysis.groupby('Platform').sum()\n",
        "reset_df = platform_sales_analysis.reset_index()\n",
        "print(reset_df) \n",
        "\n",
        "\n",
        "\n",
        "# create a bar chart\n",
        "graph = pd.DataFrame(reset_df, columns = [\"Platform\", \"NA_Sales\" ])\n",
        "plt = graph.plot(x= \"Platform\" , y=\"NA_Sales\", color = 'g', kind='bar', figsize=(20,10))\n",
        "plt.set_xlabel(\"Platform\")\n",
        "plt.set_ylabel(\"North America Sales\")\n",
        "plt.set_title(\"North America sales for Each Platform\")\n"
      ],
      "execution_count": 12,
      "outputs": [
        {
          "output_type": "stream",
          "text": [
            "<class 'pandas.core.frame.DataFrame'>\n",
            "RangeIndex: 16598 entries, 0 to 16597\n",
            "Data columns (total 11 columns):\n",
            " #   Column        Non-Null Count  Dtype  \n",
            "---  ------        --------------  -----  \n",
            " 0   Rank          16598 non-null  int64  \n",
            " 1   Name          16598 non-null  object \n",
            " 2   Platform      16598 non-null  object \n",
            " 3   Year          16327 non-null  float64\n",
            " 4   Genre         16598 non-null  object \n",
            " 5   Publisher     16540 non-null  object \n",
            " 6   NA_Sales      16598 non-null  float64\n",
            " 7   EU_Sales      16598 non-null  float64\n",
            " 8   JP_Sales      16598 non-null  float64\n",
            " 9   Other_Sales   16598 non-null  float64\n",
            " 10  Global_Sales  16598 non-null  float64\n",
            "dtypes: float64(6), int64(1), object(4)\n",
            "memory usage: 1.4+ MB\n",
            "   Platform  NA_Sales\n",
            "0      2600     80.64\n",
            "1       3DS     74.35\n",
            "2        DC      5.43\n",
            "3        DS    291.37\n",
            "4        GB    113.64\n",
            "5       GBA    183.59\n",
            "6        GC    131.43\n",
            "7       GEN     19.27\n",
            "8       N64    138.35\n",
            "9       NES    124.18\n",
            "10       PC     79.37\n",
            "11       PS    334.66\n",
            "12      PS2    559.40\n",
            "13      PS3    365.96\n",
            "14      PS4     94.56\n",
            "15      PSP     77.43\n",
            "16      PSV     14.17\n",
            "17      SAT      0.72\n",
            "18      SCD      1.00\n",
            "19     SNES     59.13\n",
            "20      Wii    424.88\n",
            "21     WiiU     37.51\n",
            "22     X360    559.73\n",
            "23       XB    181.35\n",
            "24     XOne     82.90\n"
          ],
          "name": "stdout"
        },
        {
          "output_type": "execute_result",
          "data": {
            "text/plain": [
              "Text(0.5, 1.0, 'North America sales for each platform')"
            ]
          },
          "metadata": {
            "tags": []
          },
          "execution_count": 12
        },
        {
          "output_type": "display_data",
          "data": {
            "image/png": "[encoded data removed]",
            "text/plain": [
              "<Figure size 1440x720 with 1 Axes>"
            ]
          },
          "metadata": {
            "tags": [],
            "needs_background": "light"
          }
        }
      ]
    },
    {
      "cell_type": "markdown",
      "metadata": {
        "id": "2Ag2To67e72Z"
      },
      "source": [
        "**Which platform sold the most in the European Union?**"
      ]
    },
    {
      "cell_type": "code",
      "metadata": {
        "colab": {
          "base_uri": "https://localhost:8080/",
          "height": 1000
        },
        "id": "3IlanXMNe8HF",
        "outputId": "90bf0e6c-afca-4315-a4e4-6f524114e6fc"
      },
      "source": [
        "import numpy as np\n",
        "import pandas as pd \n",
        "import matplotlib.pyplot as plt\n",
        "import matplotlib.patches as mpatches\n",
        "\n",
        "sales = pd.read_csv('vgsales.csv')\n",
        "\n",
        "sales_frame = pd.DataFrame(sales)\n",
        "\n",
        "\n",
        "# find out information about the index dtype, clumns, non-nul values\n",
        "sales_frame.info()\n",
        "\n",
        "# Find the number of columns and rows\n",
        "sales_frame.shape\n",
        "\n",
        "# Remove columns that are not going to be used\n",
        "sales_frame_update = sales_frame.drop(['JP_Sales', 'Other_Sales'], axis = 1)\n",
        "\n",
        "sales_frame_update.shape\n",
        "\n",
        "# Remove rows that have zero sales for either North America or EU and do not have a year\n",
        "sales_frame_update = sales_frame_update[sales_frame_update['EU_Sales'] > 0]\n",
        "sales_frame_update = sales_frame_update[sales_frame_update['NA_Sales'] > 0]\n",
        "sales_frame_update = sales_frame_update[sales_frame_update['Year'] > 0]\n",
        "sales_frame_update.shape\n",
        "\n",
        "\n",
        "# sort the data by date\n",
        "sales_frame_update.sort_values(by = ['Year'])\n",
        "\n",
        "\n",
        "# Visualization a time series graph for global sales\n",
        "# Only show columns Year, NA Sales, and EU Sales\n",
        "platform_sales_analysis = sales_frame_update[['Platform', 'EU_Sales']]\n",
        "\n",
        "\n",
        "# group data by genre of video game \n",
        "platform_sales_analysis = platform_sales_analysis.groupby('Platform').sum()\n",
        "reset_df = platform_sales_analysis.reset_index()\n",
        "print(reset_df) \n",
        "\n",
        "\n",
        "\n",
        "# create a bar chart\n",
        "graph = pd.DataFrame(reset_df, columns = [\"Platform\", \"EU_Sales\" ])\n",
        "plt = graph.plot(x= \"Platform\" , y=\"EU_Sales\", color='r', kind='bar', figsize=(20,10))\n",
        "plt.set_xlabel(\"Platform\")\n",
        "plt.set_ylabel(\"European Union Sales\")\n",
        "plt.set_title(\"European Sales for each platform\")\n"
      ],
      "execution_count": 10,
      "outputs": [
        {
          "output_type": "stream",
          "text": [
            "<class 'pandas.core.frame.DataFrame'>\n",
            "RangeIndex: 16598 entries, 0 to 16597\n",
            "Data columns (total 11 columns):\n",
            " #   Column        Non-Null Count  Dtype  \n",
            "---  ------        --------------  -----  \n",
            " 0   Rank          16598 non-null  int64  \n",
            " 1   Name          16598 non-null  object \n",
            " 2   Platform      16598 non-null  object \n",
            " 3   Year          16327 non-null  float64\n",
            " 4   Genre         16598 non-null  object \n",
            " 5   Publisher     16540 non-null  object \n",
            " 6   NA_Sales      16598 non-null  float64\n",
            " 7   EU_Sales      16598 non-null  float64\n",
            " 8   JP_Sales      16598 non-null  float64\n",
            " 9   Other_Sales   16598 non-null  float64\n",
            " 10  Global_Sales  16598 non-null  float64\n",
            "dtypes: float64(6), int64(1), object(4)\n",
            "memory usage: 1.4+ MB\n",
            "   Platform  EU_Sales\n",
            "0      2600      4.86\n",
            "1       3DS     56.23\n",
            "2        DC      1.69\n",
            "3        DS    184.90\n",
            "4        GB     47.51\n",
            "5       GBA     74.59\n",
            "6        GC     38.32\n",
            "7       GEN      5.52\n",
            "8       N64     41.03\n",
            "9       NES     21.15\n",
            "10       PC     99.55\n",
            "11       PS    212.38\n",
            "12      PS2    322.92\n",
            "13      PS3    333.47\n",
            "14      PS4    121.47\n",
            "15      PSP     64.75\n",
            "16      PSV     14.87\n",
            "17      SAT      0.54\n",
            "18      SCD      0.36\n",
            "19     SNES     19.04\n",
            "20      Wii    255.22\n",
            "21     WiiU     24.00\n",
            "22     X360    275.75\n",
            "23       XB     59.65\n",
            "24     XOne     45.34\n"
          ],
          "name": "stdout"
        },
        {
          "output_type": "execute_result",
          "data": {
            "text/plain": [
              "Text(0.5, 1.0, 'European Sales for each platform')"
            ]
          },
          "metadata": {
            "tags": []
          },
          "execution_count": 10
        },
        {
          "output_type": "display_data",
          "data": {
            "image/png": "[encoded data removed]",
            "text/plain": [
              "<Figure size 1440x720 with 1 Axes>"
            ]
          },
          "metadata": {
            "tags": [],
            "needs_background": "light"
          }
        }
      ]
    },
    {
      "cell_type": "markdown",
      "metadata": {
        "id": "zENWAc8rgc7V"
      },
      "source": [
        "# **Hypothesis 3: I hypothesize that Ninentendo is the best selling publisher globally as they have had very popular gaming systems**"
      ]
    },
    {
      "cell_type": "markdown",
      "metadata": {
        "id": "UeKZYXsfvzys"
      },
      "source": [
        "**Which of the publishers had the highest amount of video games bought globally?**"
      ]
    },
    {
      "cell_type": "code",
      "metadata": {
        "colab": {
          "base_uri": "https://localhost:8080/",
          "height": 987
        },
        "id": "Z1NoUfGtDFBB",
        "outputId": "c60478eb-af62-411c-9add-3b878de19d30"
      },
      "source": [
        "import numpy as np\n",
        "import pandas as pd \n",
        "import matplotlib.pyplot as plt\n",
        "import matplotlib.patches as mpatches\n",
        "\n",
        "sales = pd.read_csv('vgsales.csv')\n",
        "\n",
        "sales_frame = pd.DataFrame(sales)\n",
        "\n",
        "\n",
        "# find out information about the index dtype, clumns, non-nul values\n",
        "sales_frame.info()\n",
        "\n",
        "# Find the number of columns and rows\n",
        "sales_frame.shape\n",
        "\n",
        "# Remove columns that are not going to be used\n",
        "sales_frame_update = sales_frame.drop(['JP_Sales', 'Other_Sales'], axis = 1)\n",
        "\n",
        "sales_frame_update.shape\n",
        "\n",
        "# Remove rows that have zero sales for either North America or EU and do not have a year\n",
        "sales_frame_update = sales_frame_update[sales_frame_update['EU_Sales'] > 0]\n",
        "sales_frame_update = sales_frame_update[sales_frame_update['NA_Sales'] > 0]\n",
        "sales_frame_update = sales_frame_update[sales_frame_update['Year'] > 0]\n",
        "sales_frame_update.shape\n",
        "\n",
        "\n",
        "# sort the data by date\n",
        "sales_frame_update.sort_values(by = ['Year'])\n",
        "\n",
        "\n",
        "# Visualization a time series graph for global sales\n",
        "# Only show columns Year, NA Sales, and EU Sales\n",
        "publisher_sales_analysis = sales_frame_update[['Publisher', 'Global_Sales']]\n",
        "\n",
        "\n",
        "# group data by genre of video game \n",
        "publisher_sales_analysis = publisher_sales_analysis.groupby('Publisher').sum()\n",
        "reset_df = publisher_sales_analysis.reset_index()\n",
        "\n",
        "# Sort values in descending order and find the top 5 publishers\n",
        "publisher_sales_analysis_sorted = reset_df.sort_values(by = ['Global_Sales'], ascending=[False]).head(5)\n",
        "print(publisher_sales_analysis_sorted) \n",
        "\n",
        "\n",
        "# create a pie chart\n",
        "x = publisher_sales_analysis_sorted['Publisher']\n",
        "y = publisher_sales_analysis_sorted['Global_Sales']\n",
        "explode = [0.1, 0,0,0,0]\n",
        "\n",
        "plt.pie(y, labels=x, explode = explode, radius = 2)\n",
        "\n",
        "\n",
        "\n"
      ],
      "execution_count": 4,
      "outputs": [
        {
          "output_type": "stream",
          "text": [
            "<class 'pandas.core.frame.DataFrame'>\n",
            "RangeIndex: 16598 entries, 0 to 16597\n",
            "Data columns (total 11 columns):\n",
            " #   Column        Non-Null Count  Dtype  \n",
            "---  ------        --------------  -----  \n",
            " 0   Rank          16598 non-null  int64  \n",
            " 1   Name          16598 non-null  object \n",
            " 2   Platform      16598 non-null  object \n",
            " 3   Year          16327 non-null  float64\n",
            " 4   Genre         16598 non-null  object \n",
            " 5   Publisher     16540 non-null  object \n",
            " 6   NA_Sales      16598 non-null  float64\n",
            " 7   EU_Sales      16598 non-null  float64\n",
            " 8   JP_Sales      16598 non-null  float64\n",
            " 9   Other_Sales   16598 non-null  float64\n",
            " 10  Global_Sales  16598 non-null  float64\n",
            "dtypes: float64(6), int64(1), object(4)\n",
            "memory usage: 1.4+ MB\n",
            "                       Publisher  Global_Sales\n",
            "188                     Nintendo       1710.12\n",
            "74               Electronic Arts       1033.64\n",
            "13                    Activision        689.05\n",
            "241  Sony Computer Entertainment        557.78\n",
            "291                      Ubisoft        439.44\n"
          ],
          "name": "stdout"
        },
        {
          "output_type": "execute_result",
          "data": {
            "text/plain": [
              "([<matplotlib.patches.Wedge at 0x7fea2e97bf90>,\n",
              "  <matplotlib.patches.Wedge at 0x7fea2e9674d0>,\n",
              "  <matplotlib.patches.Wedge at 0x7fea2e967590>,\n",
              "  <matplotlib.patches.Wedge at 0x7fea2ce5c110>,\n",
              "  <matplotlib.patches.Wedge at 0x7fea2ce5c9d0>],\n",
              " [Text(0.8060328519743254, 2.1541381203483994, 'Nintendo'),\n",
              "  Text(-2.199685341843768, -0.03720748416200687, 'Electronic Arts'),\n",
              "  Text(-0.7175199692185634, -2.07970312635544, 'Activision'),\n",
              "  Text(1.1536169496858009, -1.8732773242095333, 'Sony Computer Entertainment'),\n",
              "  Text(2.094035211175688, -0.6745491341306373, 'Ubisoft')])"
            ]
          },
          "metadata": {
            "tags": []
          },
          "execution_count": 4
        },
        {
          "output_type": "display_data",
          "data": {
            "image/png": "[encoded data removed]",
            "text/plain": [
              "<Figure size 432x288 with 1 Axes>"
            ]
          },
          "metadata": {
            "tags": []
          }
        }
      ]
    },
    {
      "cell_type": "markdown",
      "metadata": {
        "id": "YplD1q2qnHE0"
      },
      "source": [
        "**Which publisher has the greatest number of sales in North America and the European Union?**"
      ]
    },
    {
      "cell_type": "code",
      "metadata": {
        "colab": {
          "base_uri": "https://localhost:8080/",
          "height": 913
        },
        "id": "PphVJcoQnQbe",
        "outputId": "cbbf7274-0d60-4300-f763-7bf1025c08c0"
      },
      "source": [
        "import numpy as np\n",
        "import pandas as pd \n",
        "import matplotlib.pyplot as plt\n",
        "import matplotlib.patches as mpatches\n",
        "\n",
        "sales = pd.read_csv('vgsales.csv')\n",
        "\n",
        "sales_frame = pd.DataFrame(sales)\n",
        "\n",
        "\n",
        "# find out information about the index dtype, clumns, non-nul values\n",
        "sales_frame.info()\n",
        "\n",
        "# Find the number of columns and rows\n",
        "sales_frame.shape\n",
        "\n",
        "# Remove columns that are not going to be used\n",
        "sales_frame_update = sales_frame.drop(['JP_Sales', 'Other_Sales'], axis = 1)\n",
        "\n",
        "sales_frame_update.shape\n",
        "\n",
        "# Remove rows that have zero sales for either North America or EU and do not have a year\n",
        "sales_frame_update = sales_frame_update[sales_frame_update['EU_Sales'] > 0]\n",
        "sales_frame_update = sales_frame_update[sales_frame_update['NA_Sales'] > 0]\n",
        "sales_frame_update = sales_frame_update[sales_frame_update['Year'] > 0]\n",
        "sales_frame_update.shape\n",
        "\n",
        "\n",
        "# sort the data by date\n",
        "sales_frame_update.sort_values(by = ['Year'])\n",
        "\n",
        "\n",
        "# Visualization a time series graph for global sales\n",
        "# Only show columns Year, NA Sales, and EU Sales\n",
        "publisher_sales_analysis = sales_frame_update[['Publisher', 'NA_Sales', 'EU_Sales']]\n",
        "\n",
        "\n",
        "# group data by genre of video game \n",
        "publisher_sales_analysis = publisher_sales_analysis.groupby('Publisher').sum()\n",
        "reset_df = publisher_sales_analysis.reset_index()\n",
        "\n",
        "# Sort values in descending order and find the top 5 publishers\n",
        "publisher_sales_analysis_sorted = reset_df.sort_values(by = ['NA_Sales'], ascending=[False]).head(5)\n",
        "print(publisher_sales_analysis_sorted) \n",
        "\n",
        "x= publisher_sales_analysis_sorted['Publisher']\n",
        "y= publisher_sales_analysis_sorted['NA_Sales']\n",
        "y2= publisher_sales_analysis_sorted['EU_Sales']\n",
        "\n",
        "# create a multicolumn bar chart\n",
        "publisher_sales_analysis_sorted.plot(x = 'Publisher', y=['NA_Sales', 'EU_Sales'] , kind = 'barh', figsize = (20,10))\n",
        "plt.title(\"Publisher Sales in NA vs. EU\")\n",
        "plt.xlabel(\"Sales\")\n",
        "\n",
        "\n",
        "\n",
        "\n",
        "\n"
      ],
      "execution_count": 49,
      "outputs": [
        {
          "output_type": "stream",
          "text": [
            "<class 'pandas.core.frame.DataFrame'>\n",
            "RangeIndex: 16598 entries, 0 to 16597\n",
            "Data columns (total 11 columns):\n",
            " #   Column        Non-Null Count  Dtype  \n",
            "---  ------        --------------  -----  \n",
            " 0   Rank          16598 non-null  int64  \n",
            " 1   Name          16598 non-null  object \n",
            " 2   Platform      16598 non-null  object \n",
            " 3   Year          16327 non-null  float64\n",
            " 4   Genre         16598 non-null  object \n",
            " 5   Publisher     16540 non-null  object \n",
            " 6   NA_Sales      16598 non-null  float64\n",
            " 7   EU_Sales      16598 non-null  float64\n",
            " 8   JP_Sales      16598 non-null  float64\n",
            " 9   Other_Sales   16598 non-null  float64\n",
            " 10  Global_Sales  16598 non-null  float64\n",
            "dtypes: float64(6), int64(1), object(4)\n",
            "memory usage: 1.4+ MB\n",
            "                       Publisher  NA_Sales  EU_Sales\n",
            "188                     Nintendo    808.77    415.42\n",
            "74               Electronic Arts    541.99    360.23\n",
            "13                    Activision    399.63    211.50\n",
            "241  Sony Computer Entertainment    251.85    175.48\n",
            "291                      Ubisoft    230.70    155.13\n"
          ],
          "name": "stdout"
        },
        {
          "output_type": "execute_result",
          "data": {
            "text/plain": [
              "Text(0.5, 0, 'Sales')"
            ]
          },
          "metadata": {
            "tags": []
          },
          "execution_count": 49
        },
        {
          "output_type": "display_data",
          "data": {
            "image/png": "[encoded data removed]",
            "text/plain": [
              "<Figure size 1440x720 with 1 Axes>"
            ]
          },
          "metadata": {
            "tags": [],
            "needs_background": "light"
          }
        }
      ]
    }
  ]
}